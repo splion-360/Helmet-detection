{
 "cells": [
  {
   "cell_type": "code",
   "execution_count": 1,
   "id": "20214cd8",
   "metadata": {},
   "outputs": [],
   "source": [
    "import os\n",
    "import glob\n",
    "import xml.etree.ElementTree as ET"
   ]
  },
  {
   "cell_type": "code",
   "execution_count": 15,
   "id": "e0f1c6e4",
   "metadata": {},
   "outputs": [],
   "source": [
    "def txt2xml(inp,out):\n",
    "    classdict = {0:'helmet',1:'head'}\n",
    "    with open(inp,'r+') as file:\n",
    "        lines = file.readlines()\n",
    "        linelist = [c.strip('\\n') for c in lines]\n",
    "        annotations = ET.Element(\"annotation\")\n",
    "        annotations = ET.SubElement(annotations,\"annotation\")\n",
    "        folder = ET.SubElement(annotations,\"folder\")\n",
    "        folder.text = \"images\"\n",
    "        filename = ET.SubElement(annotations,\"filename\")\n",
    "        filename.text = \"hard_hat_workers0.txt\"\n",
    "        size = ET.SubElement(annotations,\"size\")\n",
    "        width = ET.SubElement(size,\"width\")\n",
    "        width.text = '416'\n",
    "        height = ET.SubElement(size,\"height\")\n",
    "        height.text = '416'\n",
    "        channels = ET.SubElement(size,\"channels\")\n",
    "        channels.text = '3'\n",
    "        segmented = ET.SubElement(annotations,\"segmented\")\n",
    "        segmented.text = '0'\n",
    "        \n",
    "        for i in range(len(linelist)):\n",
    "            reqdlist = linelist[i].split()\n",
    "            create_xml(reqdlist,annotations) \n",
    "\n",
    "    tree = ET.ElementTree(annotations)\n",
    "    tree.write(out+\".xml\",encoding ='utf-8', xml_declaration = True)"
   ]
  },
  {
   "cell_type": "code",
   "execution_count": 4,
   "id": "857268a2",
   "metadata": {},
   "outputs": [],
   "source": [
    "def boundingboxcoord(x,y,w,h,size):\n",
    "    dw,dh = size\n",
    "    x = x*dw\n",
    "    y = y*dw\n",
    "    h = h*dh\n",
    "    w = w*dh\n",
    "    \n",
    "    xmin = int(((2*x)-w)/2)\n",
    "    xmax = int(((2*x)+w)/2)\n",
    "    ymin = int(((2*y)-h)/2)\n",
    "    ymax = int(((2*y)+h)/2)\n",
    "    \n",
    "    return (xmin,xmax,ymin,ymax)\n",
    "    "
   ]
  },
  {
   "cell_type": "code",
   "execution_count": 14,
   "id": "4440319b",
   "metadata": {},
   "outputs": [],
   "source": [
    "def create_xml(reqdlist,annotations):\n",
    "\n",
    "    obj = ET.SubElement(annotations,\"object\")\n",
    "    name = ET.SubElement(obj,\"name\")\n",
    "    name.text = classdict[int(reqdlist[0])]\n",
    "    pose = ET.SubElement(obj,\"pose\")\n",
    "    pose.text = 'Unspecified'\n",
    "    truncated = ET.SubElement(obj,\"truncated\")\n",
    "    truncated.text = '0'\n",
    "    truncated = ET.SubElement(obj,\"occluded\")\n",
    "    truncated.text = '0'\n",
    "    truncated = ET.SubElement(obj,\"difficult\")\n",
    "    truncated.text = '0'\n",
    "    bndbox = ET.SubElement(obj,\"bndbox\")\n",
    "    (xmin,xmax,ymin,ymax) = boundingboxcoord(float(reqdlist[1]),float(reqdlist[2]),float(reqdlist[3]),float(reqdlist[4]),(416,416))\n",
    "    new = list((str(xmin),str(xmax),str(ymin),str(ymax)))\n",
    "    xmin = ET.SubElement(bndbox,\"xmin\")\n",
    "    xmin.text = new[0]\n",
    "    ymin = ET.SubElement(bndbox,\"ymin\")\n",
    "    ymin.text = new[2]\n",
    "    xmax = ET.SubElement(bndbox,\"xmax\")\n",
    "    xmax.text = new[1]\n",
    "    ymax = ET.SubElement(bndbox,\"ymax\")\n",
    "    ymax.text = new[3]"
   ]
  },
  {
   "cell_type": "code",
   "execution_count": 63,
   "id": "d0c30dd2",
   "metadata": {},
   "outputs": [],
   "source": [
    "create_xml()"
   ]
  }
 ],
 "metadata": {
  "kernelspec": {
   "display_name": "Python 3 (ipykernel)",
   "language": "python",
   "name": "python3"
  },
  "language_info": {
   "codemirror_mode": {
    "name": "ipython",
    "version": 3
   },
   "file_extension": ".py",
   "mimetype": "text/x-python",
   "name": "python",
   "nbconvert_exporter": "python",
   "pygments_lexer": "ipython3",
   "version": "3.8.10"
  }
 },
 "nbformat": 4,
 "nbformat_minor": 5
}
